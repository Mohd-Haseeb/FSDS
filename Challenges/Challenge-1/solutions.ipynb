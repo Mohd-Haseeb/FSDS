{
 "cells": [
  {
   "cell_type": "code",
   "execution_count": 64,
   "metadata": {},
   "outputs": [
    {
     "name": "stdout",
     "output_type": "stream",
     "text": [
      "* \n",
      "* * \n",
      "* * * \n",
      "* * * * \n",
      "* * * * * \n",
      "* * * * * * \n",
      "* * * * * * * \n",
      "* * * * * * * * \n",
      "* * * * * * * * * \n"
     ]
    }
   ],
   "source": [
    "# q1 : Try to print this by using while loop \n",
    "# * \n",
    "# * * \n",
    "# * * * \n",
    "# * * * * \n",
    "# * * * * * \n",
    "# * * * * * * \n",
    "# * * * * * * * \n",
    "# * * * * * * * * \n",
    "# * * * * * * * * * \n",
    "i:int = 0\n",
    "while i < 9:\n",
    "    i+=1\n",
    "    print(i*'* ')"
   ]
  },
  {
   "cell_type": "code",
   "execution_count": 65,
   "metadata": {},
   "outputs": [
    {
     "name": "stdout",
     "output_type": "stream",
     "text": [
      "A \n",
      "B H \n",
      "C I N \n",
      "D J O S \n",
      "E K P T W \n",
      "F L Q U X Z \n",
      "G M R V Y \n"
     ]
    }
   ],
   "source": [
    "# q2 : try to print below by using while loop : \n",
    "        \n",
    "# A\n",
    "# B H \n",
    "# C I N\n",
    "# D J o S\n",
    "# E K p T W\n",
    "# F L Q U X z\n",
    "# G M R V Y \n",
    "\n",
    "i=1\n",
    "while i<8:\n",
    "    jump = 6\n",
    "    value = i\n",
    "    for j in range(i):\n",
    "        if value+64 == 91:\n",
    "            break\n",
    "        print(chr(64+value),end=' ')\n",
    "        value += jump\n",
    "        jump -= 1\n",
    "    i += 1\n",
    "    print()"
   ]
  },
  {
   "cell_type": "code",
   "execution_count": 66,
   "metadata": {},
   "outputs": [],
   "source": [
    "# q3 : Try to print all the number divisible by 3 in between a range of 40 - 400\n",
    "\n",
    "def divisible_by_three(lower,higher):\n",
    "    \n",
    "    for i in range(lower,higher):\n",
    "        if i%3==0:\n",
    "            print(i)\n",
    "    \n"
   ]
  },
  {
   "cell_type": "code",
   "execution_count": 78,
   "metadata": {},
   "outputs": [],
   "source": [
    "# q4 : Try to filter out all the vowels form below text by using while loop : \n",
    "#  \"\"\"Python is a high-level, interpreted, general-purpose programming language. Its design philosophy emphasizes code readability with the use of significant indentation.[32]\n",
    "\n",
    "# Python is dynamically-typed and garbage-collected. It supports multiple programming paradigms, including structured (particularly procedural), object-oriented and functional programming. It is often described as a \"batteries included\" language due to its comprehensive standard library.[33][34]\n",
    "\n",
    "# Guido van Rossum began working on Python in the late 1980s as a successor to the ABC programming language and first released it in 1991 as Python 0.9.0.[35] Python 2.0 was released in 2000 and introduced new features such as list comprehensions, cycle-detecting garbage collection, reference counting, and Unicode support. Python 3.0, released in 2008, was a major revision that is not completely backward-compatible with earlier versions. Python 2 was discontinued with version 2.7.18 in 2020.[36]\n",
    "\n",
    "# Python consistently ranks as one of the most popular programming languagesc\"\"\" ord('S')"
   ]
  },
  {
   "cell_type": "code",
   "execution_count": 68,
   "metadata": {},
   "outputs": [],
   "source": [
    "my_str =  \"\"\"Python is a high-level, interpreted, general-purpose programming language. Its design philosophy emphasizes code readability with the use of significant indentation.[32]\n",
    "\n",
    "# Python is dynamically-typed and garbage-collected. It supports multiple programming paradigms, including structured (particularly procedural), object-oriented and functional programming. It is often described as a \"batteries included\" language due to its comprehensive standard library.[33][34]\n",
    "\n",
    "# Guido van Rossum began working on Python in the late 1980s as a successor to the ABC programming language and first released it in 1991 as Python 0.9.0.[35] Python 2.0 was released in 2000 and introduced new features such as list comprehensions, cycle-detecting garbage collection, reference counting, and Unicode support. Python 3.0, released in 2008, was a major revision that is not completely backward-compatible with earlier versions. Python 2 was discontinued with version 2.7.18 in 2020.[36]\n",
    "\n",
    "# Python consistently ranks as one of the most popular programming languagesc\"\"\"\n",
    "arr_str = my_str.split()\n",
    "length_of_arr_str = len(arr_str)\n",
    "count =0\n",
    "vowels = ['a','e','i','o','u']\n",
    "filtered_words = []\n",
    "while count <length_of_arr_str:\n",
    "    # print(arr_str[count])\n",
    "    if arr_str[count][0] in vowels:\n",
    "        filtered_words.append(arr_str[count])\n",
    "        # print(arr_str[count])\n",
    "    count += 1"
   ]
  },
  {
   "cell_type": "code",
   "execution_count": 69,
   "metadata": {},
   "outputs": [],
   "source": [
    "\n",
    "# q5 : Try to generate all the even number between 1- 1000\n",
    "def even_number(lower,higher):\n",
    "    for i in range(lower,higher):\n",
    "        if i%2==0:\n",
    "            print(i)\n",
    "\n",
    "l=1\n",
    "h=1000\n",
    "# even_number(l,h)\n",
    "\n"
   ]
  },
  {
   "cell_type": "code",
   "execution_count": 70,
   "metadata": {},
   "outputs": [
    {
     "name": "stdout",
     "output_type": "stream",
     "text": [
      "is\n",
      "a\n",
      "interpreted,\n",
      "emphasizes\n",
      "use\n",
      "of\n",
      "indentation.[32]\n",
      "is\n",
      "and\n",
      "including\n",
      "object-oriented\n",
      "and\n",
      "is\n",
      "often\n",
      "as\n",
      "a\n",
      "included\"\n",
      "its\n",
      "on\n",
      "in\n",
      "as\n",
      "a\n",
      "and\n",
      "it\n",
      "in\n",
      "as\n",
      "in\n",
      "and\n",
      "introduced\n",
      "as\n",
      "and\n",
      "in\n",
      "a\n",
      "is\n",
      "earlier\n",
      "in\n",
      "as\n",
      "one\n",
      "of\n"
     ]
    }
   ],
   "source": [
    "# q6 : Define a function for all the above problem statememnt  . \n",
    "def filter_vowels(s):\n",
    "    arr_str = my_str.split()\n",
    "    length_of_arr_str = len(arr_str)\n",
    "    count =0\n",
    "    vowels = ['a','e','i','o','u']\n",
    "    filtered_words = []\n",
    "    while count <length_of_arr_str:\n",
    "        # print(arr_str[count])\n",
    "        if arr_str[count][0] in vowels and arr_str[count][0]:\n",
    "            filtered_words.append(arr_str[count])\n",
    "            print(arr_str[count])\n",
    "        count += 1\n",
    "\n",
    "s= 'Python consistently ranks as one of the most popular programming languagesc'\n",
    "filter_vowels(s)\n",
    "\n"
   ]
  },
  {
   "cell_type": "code",
   "execution_count": 71,
   "metadata": {},
   "outputs": [
    {
     "name": "stdout",
     "output_type": "stream",
     "text": [
      "01:20:06.812845\n"
     ]
    }
   ],
   "source": [
    "# q7 : write a code to get a time of your system \n",
    "from datetime import datetime\n",
    "\n",
    "# print(type(datetime.now()))\n",
    "\n",
    "current_time = datetime.now().time()\n",
    "\n",
    "print(current_time)\n",
    "\n"
   ]
  },
  {
   "cell_type": "code",
   "execution_count": 72,
   "metadata": {},
   "outputs": [
    {
     "name": "stdout",
     "output_type": "stream",
     "text": [
      "2022-06-04\n"
     ]
    }
   ],
   "source": [
    "# q8 : Write a code to fetch date form your system \n",
    "\n",
    "current_date = datetime.now().date()\n",
    "print(current_date)"
   ]
  },
  {
   "cell_type": "code",
   "execution_count": 73,
   "metadata": {},
   "outputs": [],
   "source": [
    "# q9 : Write a code to send a mail to your friend \n",
    "\n",
    "# ERROR\n",
    "\n",
    "# import smtplib\n",
    "# gmail_user = 'shabrez30mohd@gmail.com'\n",
    "# gmail_password = 'xxxxxx'\n",
    "  \n",
    "\n",
    "# s = smtplib.SMTP('smtp.gmail.com', 587)\n",
    "\n",
    "# s.starttls()\n",
    "  \n",
    "\n",
    "# s.login(gmail_user, gmail_password)\n",
    "  \n",
    "\n",
    "# message = \"sending mail using smtplib\"\n",
    "  \n",
    "\n",
    "# s.sendmail(gmail_user, \"mohd.haseeb440@gmail.com\", message)\n",
    "  \n",
    "\n",
    "# s.quit()"
   ]
  },
  {
   "cell_type": "code",
   "execution_count": null,
   "metadata": {},
   "outputs": [],
   "source": []
  },
  {
   "cell_type": "code",
   "execution_count": 74,
   "metadata": {},
   "outputs": [
    {
     "name": "stdout",
     "output_type": "stream",
     "text": [
      "2022-06-01 02:25:40.003476\n",
      "Still got time to sleep\n"
     ]
    }
   ],
   "source": [
    "# q10 : write a code to trigger alarm for you at scheduled time \n",
    "alarm_set = datetime(2022,6,1,2,25,40,3476)\n",
    "# alarm_set = datetime.now()\n",
    "print(alarm_set)\n",
    "\n",
    "if datetime.now() == alarm_set:\n",
    "    print(\"Time to wake up!!\")\n",
    "else:\n",
    "    print(\"Still got time to sleep\")"
   ]
  },
  {
   "cell_type": "code",
   "execution_count": 75,
   "metadata": {},
   "outputs": [],
   "source": [
    "# q11 : write a code to check ip address of your system \n",
    "\n",
    "\n",
    "# ERROR\n",
    "# import socket\n",
    "# host_name = socket.gethostname()\n",
    "# print(host_name)\n",
    "# socket.gethostbyname(host_name)\n",
    "\n"
   ]
  },
  {
   "cell_type": "code",
   "execution_count": 76,
   "metadata": {},
   "outputs": [],
   "source": [
    "# q12 : Write a code to check a perticular installation in your system\n",
    "\n"
   ]
  },
  {
   "cell_type": "code",
   "execution_count": 77,
   "metadata": {},
   "outputs": [],
   "source": [
    "# q13 : Write a code to convert any text in to voice "
   ]
  },
  {
   "cell_type": "code",
   "execution_count": null,
   "metadata": {},
   "outputs": [],
   "source": []
  }
 ],
 "metadata": {
  "kernelspec": {
   "display_name": "Python 3.9.7 ('base')",
   "language": "python",
   "name": "python3"
  },
  "language_info": {
   "codemirror_mode": {
    "name": "ipython",
    "version": 3
   },
   "file_extension": ".py",
   "mimetype": "text/x-python",
   "name": "python",
   "nbconvert_exporter": "python",
   "pygments_lexer": "ipython3",
   "version": "3.9.7"
  },
  "orig_nbformat": 4,
  "vscode": {
   "interpreter": {
    "hash": "a2a44d6bf7725472b302fb43220884295e1f7de98ffd4624c738d18ae0190b1a"
   }
  }
 },
 "nbformat": 4,
 "nbformat_minor": 2
}
