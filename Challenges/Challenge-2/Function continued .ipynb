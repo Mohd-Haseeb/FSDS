{
 "cells": [
  {
   "cell_type": "code",
   "execution_count": 34,
   "id": "495c47e2",
   "metadata": {},
   "outputs": [],
   "source": [
    "# Todays task :\n",
    "#     q1 : Try to print a prime number in between 1 to 1000\n",
    "#     q2 : Try to write a function which  is equivalent  to print function in python\n",
    "#     q3 : Try to write a function which is a replica of list append , extend and pop function \n",
    "#     q4 : Try to write a lambda function which can return a concatination of all the string that we will pass\n",
    "#     q5 : Try to write a lambda function which can return list of square of all the data between 1-100 \n",
    "#     q6 : Try to write a 10 Different different example of lambda function with a choice of your taks \n",
    "#     q7 : Try to wwrite a funtion whihc can perform a read operation from .txt file \n",
    "        \n",
    "#         shivan@ineuron.ai\n",
    "        # sudhashu@ineuron.ai"
   ]
  },
  {
   "cell_type": "code",
   "execution_count": 140,
   "id": "e182894b",
   "metadata": {},
   "outputs": [
    {
     "name": "stdout",
     "output_type": "stream",
     "text": [
      "Hello \n"
     ]
    }
   ],
   "source": [
    "print(\"Hello \")"
   ]
  },
  {
   "cell_type": "code",
   "execution_count": 141,
   "id": "ad980bcf",
   "metadata": {},
   "outputs": [],
   "source": [
    "#q1 Printing prime numbers between 1-1000\n",
    "def prime_numbers(start,end):\n",
    "    primes = []\n",
    "    for i in range(start,end+1):\n",
    "        if i > 1 :\n",
    "            if(isPrime(i)):\n",
    "                primes.append(i)\n",
    "    \n",
    "    return primes\n",
    "\n",
    "def isPrime(n):\n",
    "    for i in range(2,n):\n",
    "        if n%i==0:\n",
    "            return False\n",
    "    \n",
    "    return True\n",
    "        "
   ]
  },
  {
   "cell_type": "code",
   "execution_count": 142,
   "id": "7b821f05",
   "metadata": {},
   "outputs": [
    {
     "data": {
      "text/plain": [
       "168"
      ]
     },
     "execution_count": 142,
     "metadata": {},
     "output_type": "execute_result"
    }
   ],
   "source": [
    "len(prime_numbers(1,1000))"
   ]
  },
  {
   "cell_type": "code",
   "execution_count": 143,
   "id": "91b2e45c",
   "metadata": {},
   "outputs": [
    {
     "name": "stdout",
     "output_type": "stream",
     "text": [
      "ineuron\n"
     ]
    }
   ],
   "source": [
    "#q2 Function equivalent to \"print()\"\n",
    "def my_print(text):\n",
    "    print(text)\n",
    "\n",
    "my_print(\"ineuron\")"
   ]
  },
  {
   "cell_type": "code",
   "execution_count": 144,
   "id": "1bd00679",
   "metadata": {},
   "outputs": [],
   "source": [
    "#q3 Function equivalent to list append\n",
    "def list_append(element,my_list):\n",
    "    \"\"\"\n",
    "        This method will append an element to a list\n",
    "    \"\"\"\n",
    "    my_list.append(element)"
   ]
  },
  {
   "cell_type": "code",
   "execution_count": 145,
   "id": "744c7f6e",
   "metadata": {},
   "outputs": [],
   "source": [
    "my_list = [5,7]\n",
    "list_append(2,my_list)"
   ]
  },
  {
   "cell_type": "code",
   "execution_count": 146,
   "id": "c4020b83",
   "metadata": {},
   "outputs": [],
   "source": [
    "#q3 Function equivalent to list extend\n",
    "def list_extend(list1,list2):\n",
    "    for ele in list2:\n",
    "        list_append(ele,list1)\n",
    "\n",
    "    print(list1)\n"
   ]
  },
  {
   "cell_type": "code",
   "execution_count": 147,
   "id": "9031ffd1",
   "metadata": {},
   "outputs": [
    {
     "name": "stdout",
     "output_type": "stream",
     "text": [
      "['a', 'b', 'c', 1, 2, 3]\n"
     ]
    }
   ],
   "source": [
    "list_extend(['a','b','c'],[1,2,3])"
   ]
  },
  {
   "cell_type": "code",
   "execution_count": 148,
   "id": "338b3f92",
   "metadata": {},
   "outputs": [],
   "source": [
    "#q3 Function equivalent to list pop\n",
    "def list_pop(l):\n",
    "    last = l[-1]\n",
    "    l.pop()\n",
    "    print(l)\n",
    "    return last"
   ]
  },
  {
   "cell_type": "code",
   "execution_count": 149,
   "id": "536cac8b",
   "metadata": {},
   "outputs": [
    {
     "name": "stdout",
     "output_type": "stream",
     "text": [
      "[1, 2, 3, 4]\n"
     ]
    },
    {
     "data": {
      "text/plain": [
       "'Haseeb'"
      ]
     },
     "execution_count": 149,
     "metadata": {},
     "output_type": "execute_result"
    }
   ],
   "source": [
    "l3 = [1,2,3,4,\"Haseeb\"]\n",
    "list_pop(l3)\n"
   ]
  },
  {
   "cell_type": "code",
   "execution_count": 150,
   "id": "bb07fda4",
   "metadata": {},
   "outputs": [
    {
     "data": {
      "text/plain": [
       "[5, 7, 2]"
      ]
     },
     "execution_count": 150,
     "metadata": {},
     "output_type": "execute_result"
    }
   ],
   "source": [
    "my_list"
   ]
  },
  {
   "cell_type": "code",
   "execution_count": 151,
   "id": "50081ac2",
   "metadata": {},
   "outputs": [],
   "source": [
    "#q4 Lambda function to concat all strings passed\n",
    "concat = lambda *x: ''.join(x)"
   ]
  },
  {
   "cell_type": "code",
   "execution_count": 152,
   "id": "ef78b86c",
   "metadata": {},
   "outputs": [
    {
     "data": {
      "text/plain": [
       "'124354'"
      ]
     },
     "execution_count": 152,
     "metadata": {},
     "output_type": "execute_result"
    }
   ],
   "source": [
    "concat('12','43','54')"
   ]
  },
  {
   "cell_type": "code",
   "execution_count": 153,
   "id": "ac35377e",
   "metadata": {},
   "outputs": [],
   "source": [
    "#q5 lambda function to find squares\n",
    "squares = [(lambda x : x**2) (x) for x in range(1,100)] "
   ]
  },
  {
   "cell_type": "code",
   "execution_count": 154,
   "id": "91b7a3f4",
   "metadata": {},
   "outputs": [
    {
     "name": "stdout",
     "output_type": "stream",
     "text": [
      "[1, 4, 9]\n"
     ]
    }
   ],
   "source": [
    "#q6 Use case of lambda function (1)\n",
    "print(list(map(lambda x:x**2,[1,2,3])))"
   ]
  },
  {
   "cell_type": "code",
   "execution_count": 155,
   "id": "bcfeba7b",
   "metadata": {},
   "outputs": [
    {
     "data": {
      "text/plain": [
       "[2, 4, 6]"
      ]
     },
     "execution_count": 155,
     "metadata": {},
     "output_type": "execute_result"
    }
   ],
   "source": [
    "#q6 Use case of lambda function (2)\n",
    "list1 = [1,2,3,4,5,6,7]\n",
    "list(filter(lambda x : x%2==0,list1))"
   ]
  },
  {
   "cell_type": "code",
   "execution_count": 156,
   "id": "1879c27a",
   "metadata": {},
   "outputs": [
    {
     "data": {
      "text/plain": [
       "30"
      ]
     },
     "execution_count": 156,
     "metadata": {},
     "output_type": "execute_result"
    }
   ],
   "source": [
    "#q6 Use case of lambda function (3)\n",
    "multiply_by = lambda x,y : x*y\n",
    "\n",
    "multiply_by(5,6)"
   ]
  },
  {
   "cell_type": "code",
   "execution_count": 157,
   "id": "246a975b",
   "metadata": {},
   "outputs": [
    {
     "name": "stdout",
     "output_type": "stream",
     "text": [
      "Hello world\n",
      "ineuron\n"
     ]
    }
   ],
   "source": [
    "#q7 To read a text file\n",
    "with open('./test.txt','r') as file:\n",
    "    print(file.read())"
   ]
  },
  {
   "cell_type": "code",
   "execution_count": null,
   "id": "ad90ef7c",
   "metadata": {},
   "outputs": [],
   "source": []
  }
 ],
 "metadata": {
  "interpreter": {
   "hash": "a2a44d6bf7725472b302fb43220884295e1f7de98ffd4624c738d18ae0190b1a"
  },
  "kernelspec": {
   "display_name": "Python 3.9.7 ('base')",
   "language": "python",
   "name": "python3"
  },
  "language_info": {
   "codemirror_mode": {
    "name": "ipython",
    "version": 3
   },
   "file_extension": ".py",
   "mimetype": "text/x-python",
   "name": "python",
   "nbconvert_exporter": "python",
   "pygments_lexer": "ipython3",
   "version": "3.9.7"
  }
 },
 "nbformat": 4,
 "nbformat_minor": 5
}
