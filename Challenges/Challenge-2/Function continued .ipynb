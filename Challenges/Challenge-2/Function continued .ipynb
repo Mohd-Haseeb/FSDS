{
 "cells": [
  {
   "cell_type": "code",
   "execution_count": 34,
   "id": "495c47e2",
   "metadata": {},
   "outputs": [],
   "source": [
    "# Todays task :\n",
    "#     q1 : Try to print a prime number in between 1 to 1000\n",
    "#     q2 : Try to write a function which  is equivalent  to print function in python\n",
    "#     q3 : Try to write a function which is a replica of list append , extend and pop function \n",
    "#     q4 : Try to write a lambda function which can return a concatination of all the string that we will pass\n",
    "#     q5 : Try to write a lambda function which can return list of square of all the data between 1-100 \n",
    "#     q6 : Try to write a 10 Different different example of lambda function with a choice of your taks \n",
    "#     q7 : Try to wwrite a funtion whihc can perform a read operation from .txt file \n",
    "        \n",
    "#         shivan@ineuron.ai\n",
    "        # sudhashu@ineuron.ai"
   ]
  },
  {
   "cell_type": "code",
   "execution_count": 35,
   "id": "e182894b",
   "metadata": {},
   "outputs": [
    {
     "name": "stdout",
     "output_type": "stream",
     "text": [
      "Hello \n"
     ]
    }
   ],
   "source": [
    "print(\"Hello \")"
   ]
  },
  {
   "cell_type": "code",
   "execution_count": 36,
   "id": "ad980bcf",
   "metadata": {},
   "outputs": [],
   "source": [
    "def prime_numbers(start,end):\n",
    "    primes = []\n",
    "    for i in range(start,end+1):\n",
    "        if i > 1 :\n",
    "            if(isPrime(i)):\n",
    "                primes.append(i)\n",
    "    \n",
    "    return primes\n",
    "\n",
    "def isPrime(n):\n",
    "    for i in range(2,n):\n",
    "        if n%i==0:\n",
    "            return False\n",
    "    \n",
    "    return True\n",
    "        "
   ]
  },
  {
   "cell_type": "code",
   "execution_count": 37,
   "id": "7b821f05",
   "metadata": {},
   "outputs": [
    {
     "data": {
      "text/plain": [
       "168"
      ]
     },
     "execution_count": 37,
     "metadata": {},
     "output_type": "execute_result"
    }
   ],
   "source": [
    "len(prime_numbers(1,1000))"
   ]
  },
  {
   "cell_type": "code",
   "execution_count": 38,
   "id": "91b2e45c",
   "metadata": {},
   "outputs": [
    {
     "name": "stdout",
     "output_type": "stream",
     "text": [
      "ineuron\n"
     ]
    }
   ],
   "source": [
    "def my_print(text):\n",
    "    print(text)\n",
    "\n",
    "my_print(\"ineuron\")"
   ]
  },
  {
   "cell_type": "code",
   "execution_count": 39,
   "id": "1bd00679",
   "metadata": {},
   "outputs": [],
   "source": [
    "def list_append(element,my_list):\n",
    "    \"\"\"\n",
    "        This method will append an element to a list\n",
    "    \"\"\"\n",
    "    my_list.append(element)"
   ]
  },
  {
   "cell_type": "code",
   "execution_count": 40,
   "id": "744c7f6e",
   "metadata": {},
   "outputs": [],
   "source": [
    "my_list = [5,7]\n",
    "list_append(2,my_list)"
   ]
  },
  {
   "cell_type": "code",
   "execution_count": 45,
   "id": "c4020b83",
   "metadata": {},
   "outputs": [],
   "source": [
    "def list_extend(list1,list2):\n",
    "    for ele in list2:\n",
    "        list_append(ele,list1)\n",
    "\n",
    "    print(list1)\n"
   ]
  },
  {
   "cell_type": "code",
   "execution_count": 46,
   "id": "9031ffd1",
   "metadata": {},
   "outputs": [
    {
     "name": "stdout",
     "output_type": "stream",
     "text": [
      "['a', 'b', 'c', 1, 2, 3]\n"
     ]
    }
   ],
   "source": [
    "list_extend(['a','b','c'],[1,2,3])"
   ]
  },
  {
   "cell_type": "code",
   "execution_count": 80,
   "id": "338b3f92",
   "metadata": {},
   "outputs": [],
   "source": [
    "def list_pop(l):\n",
    "    last = l[-1]\n",
    "    l.pop()\n",
    "    print(l)\n",
    "    return last"
   ]
  },
  {
   "cell_type": "code",
   "execution_count": 83,
   "id": "536cac8b",
   "metadata": {},
   "outputs": [
    {
     "name": "stdout",
     "output_type": "stream",
     "text": [
      "[1, 2, 3, 4]\n"
     ]
    },
    {
     "data": {
      "text/plain": [
       "'Haseeb'"
      ]
     },
     "execution_count": 83,
     "metadata": {},
     "output_type": "execute_result"
    }
   ],
   "source": [
    "l3 = [1,2,3,4,\"Haseeb\"]\n",
    "list_pop(l3)\n"
   ]
  },
  {
   "cell_type": "code",
   "execution_count": 84,
   "id": "1a91f57e",
   "metadata": {},
   "outputs": [
    {
     "name": "stdout",
     "output_type": "stream",
     "text": [
      "[1, 2, 3, 4]\n"
     ]
    }
   ],
   "source": [
    "print(l3)\n"
   ]
  },
  {
   "cell_type": "code",
   "execution_count": 75,
   "id": "85ede2c2",
   "metadata": {},
   "outputs": [
    {
     "data": {
      "text/plain": [
       "[1, 2]"
      ]
     },
     "execution_count": 75,
     "metadata": {},
     "output_type": "execute_result"
    }
   ],
   "source": []
  },
  {
   "cell_type": "code",
   "execution_count": 24,
   "id": "bb07fda4",
   "metadata": {},
   "outputs": [
    {
     "data": {
      "text/plain": [
       "[5, 7, 2, 'hello', 'world']"
      ]
     },
     "execution_count": 24,
     "metadata": {},
     "output_type": "execute_result"
    }
   ],
   "source": [
    "my_list"
   ]
  },
  {
   "cell_type": "code",
   "execution_count": 90,
   "id": "3e8860a9",
   "metadata": {},
   "outputs": [
    {
     "data": {
      "text/plain": [
       "[30, 30, 30, 30]"
      ]
     },
     "execution_count": 90,
     "metadata": {},
     "output_type": "execute_result"
    }
   ],
   "source": [
    "[(lambda x: 5*6) (i) for i in kwargs]"
   ]
  },
  {
   "cell_type": "code",
   "execution_count": 111,
   "id": "50081ac2",
   "metadata": {},
   "outputs": [],
   "source": [
    "\n",
    "concat = lambda *x: ''.join(x)"
   ]
  },
  {
   "cell_type": "code",
   "execution_count": 112,
   "id": "ef78b86c",
   "metadata": {},
   "outputs": [
    {
     "data": {
      "text/plain": [
       "'124354'"
      ]
     },
     "execution_count": 112,
     "metadata": {},
     "output_type": "execute_result"
    }
   ],
   "source": [
    "concat('12','43','54')"
   ]
  },
  {
   "cell_type": "code",
   "execution_count": null,
   "id": "821775ab",
   "metadata": {},
   "outputs": [],
   "source": []
  },
  {
   "cell_type": "code",
   "execution_count": 114,
   "id": "ac35377e",
   "metadata": {},
   "outputs": [],
   "source": [
    "squares = [(lambda x : x**2) (x) for x in range(1,100)] "
   ]
  },
  {
   "cell_type": "code",
   "execution_count": 117,
   "id": "246a975b",
   "metadata": {},
   "outputs": [
    {
     "name": "stdout",
     "output_type": "stream",
     "text": [
      "Hello\n",
      "ineuron\n"
     ]
    }
   ],
   "source": [
    "with open('./test.txt','r') as file:\n",
    "    print(file.read())"
   ]
  },
  {
   "cell_type": "code",
   "execution_count": null,
   "id": "ad90ef7c",
   "metadata": {},
   "outputs": [],
   "source": []
  }
 ],
 "metadata": {
  "interpreter": {
   "hash": "a2a44d6bf7725472b302fb43220884295e1f7de98ffd4624c738d18ae0190b1a"
  },
  "kernelspec": {
   "display_name": "Python 3.9.7 ('base')",
   "language": "python",
   "name": "python3"
  },
  "language_info": {
   "codemirror_mode": {
    "name": "ipython",
    "version": 3
   },
   "file_extension": ".py",
   "mimetype": "text/x-python",
   "name": "python",
   "nbconvert_exporter": "python",
   "pygments_lexer": "ipython3",
   "version": "3.9.7"
  }
 },
 "nbformat": 4,
 "nbformat_minor": 5
}
