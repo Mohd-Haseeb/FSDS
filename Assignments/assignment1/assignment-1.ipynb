{
 "cells": [
  {
   "cell_type": "markdown",
   "metadata": {},
   "source": [
    "1. In the below elements which of them are values or an expression? eg:- values can be\n",
    "integer or string and expressions will be mathematical operators.\n",
    "\n",
    "            'hello' , -87.8, -, /, +, 6\n",
    "\n",
    "2. What is the difference between string and variable?\n",
    "\n",
    "3. Describe three different data types.\n",
    "\n",
    "4. What is an expression made up of? What do all expressions do?\n",
    "5. This assignment statements, like spam = 10. What is the difference between an\n",
    "expression and a statement?\n",
    "6. After running the following code, what does the variable bacon contain?\n",
    "bacon = 22\n",
    "bacon + 1\n",
    "\n",
    "7. What should the values of the following two terms be?\n",
    "&#39;spam&#39; + &#39;spamspam&#39;\n",
    "&#39;spam&#39; * 3\n",
    "\n",
    "8. Why is eggs a valid variable name while 100 is invalid?\n",
    "\n",
    "9. What three functions can be used to get the integer, floating-point number, or string\n",
    "version of a value?\n",
    "10. Why does this expression cause an error? How can you fix it?\n",
    "&#39;I have eaten &#39; + 99 + &#39; burritos.&#39;"
   ]
  },
  {
   "cell_type": "markdown",
   "metadata": {},
   "source": []
  },
  {
   "cell_type": "code",
   "execution_count": 20,
   "metadata": {},
   "outputs": [
    {
     "name": "stdout",
     "output_type": "stream",
     "text": [
      "Hello ineuron\n"
     ]
    }
   ],
   "source": [
    "print(\"Hello ineuron\")"
   ]
  },
  {
   "cell_type": "markdown",
   "metadata": {},
   "source": [
    " 1. Values -> 'hello', -87.8, 6 and \n",
    "     Expressions -> -,/,+"
   ]
  },
  {
   "cell_type": "markdown",
   "metadata": {},
   "source": [
    "2. Variable holds different types of data types like int, string, list, dictionary(i.e It holds information)\n",
    "    String is a data type(information) this is stored in a varible.\n",
    "    Example : variables -> name='John', year = 2022\n",
    "                String -> company = 'ineuron'"
   ]
  },
  {
   "cell_type": "markdown",
   "metadata": {},
   "source": [
    "3. Any programming language has different data types. General primitive data types in python  are integer, string, list, dictionary , tuples, set"
   ]
  },
  {
   "cell_type": "markdown",
   "metadata": {},
   "source": [
    "4. An expression is made of variables, operators and method invocations. "
   ]
  },
  {
   "cell_type": "markdown",
   "metadata": {},
   "source": [
    "5. Expressions contains operators, literals, function call and identifiers , and generates some value, where as statement is a line of code. All expressions are statements.\n"
   ]
  },
  {
   "cell_type": "code",
   "execution_count": 21,
   "metadata": {},
   "outputs": [
    {
     "data": {
      "text/plain": [
       "23"
      ]
     },
     "execution_count": 21,
     "metadata": {},
     "output_type": "execute_result"
    }
   ],
   "source": [
    "#6 Following expression has 2 statements, first statement is an assignment expression and in next statement variable is incremented by 1.\n",
    "bacon = 22\n",
    "bacon + 1"
   ]
  },
  {
   "cell_type": "code",
   "execution_count": 22,
   "metadata": {},
   "outputs": [
    {
     "name": "stdout",
     "output_type": "stream",
     "text": [
      "spam\n",
      "spamspam\n",
      "spamspamspam\n"
     ]
    }
   ],
   "source": [
    "# 7\n",
    "print('spam')\n",
    "print('spamspam')\n",
    "print('spam'*3)"
   ]
  },
  {
   "cell_type": "markdown",
   "metadata": {},
   "source": [
    "8. Varible names should always start with letters or underscore(_), not with numbers or special characters"
   ]
  },
  {
   "cell_type": "code",
   "execution_count": 23,
   "metadata": {},
   "outputs": [
    {
     "name": "stdout",
     "output_type": "stream",
     "text": [
      "10.7\n",
      "10\n",
      "10.7\n"
     ]
    }
   ],
   "source": [
    "# 9. The three functions to get values of int, string and float are int(), str() and float()\n",
    "value = 10.7\n",
    "print(str(value))\n",
    "print(int(value))\n",
    "print(float(value))\n"
   ]
  },
  {
   "cell_type": "code",
   "execution_count": 24,
   "metadata": {},
   "outputs": [
    {
     "data": {
      "text/plain": [
       "'I have eaten 99 burritos '"
      ]
     },
     "execution_count": 24,
     "metadata": {},
     "output_type": "execute_result"
    }
   ],
   "source": [
    "# 10. Error with below expression is, we cannot concat a string with an int. So, what we can do is convert int into string by using str() function\n",
    "\n",
    "# 'I have eaten ' + 99  +\" burritos \" -> ERROR\n",
    "'I have eaten ' + str(99)  +\" burritos \""
   ]
  },
  {
   "cell_type": "code",
   "execution_count": null,
   "metadata": {},
   "outputs": [],
   "source": []
  }
 ],
 "metadata": {
  "interpreter": {
   "hash": "aee8b7b246df8f9039afb4144a1f6fd8d2ca17a180786b69acc140d282b71a49"
  },
  "kernelspec": {
   "display_name": "Python 3.10.4 64-bit",
   "language": "python",
   "name": "python3"
  },
  "language_info": {
   "codemirror_mode": {
    "name": "ipython",
    "version": 3
   },
   "file_extension": ".py",
   "mimetype": "text/x-python",
   "name": "python",
   "nbconvert_exporter": "python",
   "pygments_lexer": "ipython3",
   "version": "3.10.4"
  },
  "orig_nbformat": 4
 },
 "nbformat": 4,
 "nbformat_minor": 2
}
