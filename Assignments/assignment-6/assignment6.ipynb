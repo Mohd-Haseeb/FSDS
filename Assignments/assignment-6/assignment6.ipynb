{
 "cells": [
  {
   "cell_type": "markdown",
   "metadata": {},
   "source": [
    "1. What are escape characters, and how do you use them?\n",
    "2. What do the escape characters n and t stand for?\n",
    "3. What is the way to include backslash characters in a string?\n",
    "4. The string &quot;Howl&#39;s Moving Castle&quot; is a correct value. Why isn&#39;t the single quote character in the\n",
    "word Howl&#39;s not escaped a problem?\n",
    "5. How do you write a string of newlines if you don&#39;t want to use the n character?\n",
    "6. What are the values of the given expressions?\n",
    "&#39;Hello, world!&#39;[1]\n",
    "&#39;Hello, world!&#39;[0:5]\n",
    "&#39;Hello, world!&#39;[:5]\n",
    "&#39;Hello, world!&#39;[3:]\n",
    "\n",
    "7. What are the values of the following expressions?\n",
    "&#39;Hello&#39;.upper()\n",
    "&#39;Hello&#39;.upper().isupper()\n",
    "&#39;Hello&#39;.upper().lower()\n",
    "8. What are the values of the following expressions?\n",
    "&#39;Remember, remember, the fifth of July.&#39;.split()\n",
    "&#39;-&#39;.join(&#39;There can only one.&#39;.split())\n",
    "9. What are the methods for right-justifying, left-justifying, and centering a string?\n",
    "10. What is the best way to remove whitespace characters from the start or end?"
   ]
  },
  {
   "cell_type": "code",
   "execution_count": 1,
   "metadata": {},
   "outputs": [
    {
     "data": {
      "text/plain": [
       "\"'The Kings's kingom had fallend apart', said the minister.\""
      ]
     },
     "execution_count": 1,
     "metadata": {},
     "output_type": "execute_result"
    }
   ],
   "source": [
    "#1. Escape characters are used to insert values in a string that are illegal to use. \\,\\\\,\\n,\\s,\\t etc are examples of an escape character\n",
    "\n",
    "my_text = '\\'The Kings\\'s kingom had fallend apart\\', said the minister.'\n",
    "my_text"
   ]
  },
  {
   "cell_type": "code",
   "execution_count": 10,
   "metadata": {},
   "outputs": [
    {
     "name": "stdout",
     "output_type": "stream",
     "text": [
      "Multiline strings\n",
      "can be created\n",
      "using escape sequences.\n",
      "Multiline strings\n",
      "can be created\n",
      "using escape\t sequences.\n"
     ]
    }
   ],
   "source": [
    "#2. \\t is for tab space and \\n for new line\n",
    "print(\"Multiline strings\\ncan be created\\nusing escape sequences.\")\n",
    "print(\"Multiline strings\\ncan be created\\nusing escape\\t sequences.\")"
   ]
  },
  {
   "cell_type": "code",
   "execution_count": 16,
   "metadata": {},
   "outputs": [
    {
     "name": "stdout",
     "output_type": "stream",
     "text": [
      "We can use backslashes\\ in string\n"
     ]
    }
   ],
   "source": [
    "#3. way to use backslash characters in string by using \\\\\n",
    "print(\"We can use backslashes\\\\ in string\")"
   ]
  },
  {
   "cell_type": "code",
   "execution_count": 18,
   "metadata": {},
   "outputs": [
    {
     "name": "stdout",
     "output_type": "stream",
     "text": [
      "Howl's moving castle\n"
     ]
    }
   ],
   "source": [
    "#4. String can be represented by either \"\" or ''. So, they are interpreted differently when we use them within a string\n",
    "print(\"Howl's moving castle\")"
   ]
  },
  {
   "cell_type": "code",
   "execution_count": 61,
   "metadata": {},
   "outputs": [
    {
     "name": "stdout",
     "output_type": "stream",
     "text": [
      "Hello\n",
      "World\n",
      "\n",
      "    Hello\n",
      "    World\n",
      "    Multiple\n",
      "    Lines\n",
      "\n"
     ]
    }
   ],
   "source": [
    "#5.  string of new lines without \\n\n",
    "\n",
    "# Method 1\n",
    "print(\"Hello\")\n",
    "print(\"World\")\n",
    "\n",
    "# Method 2\n",
    "print(\"\"\"\n",
    "    Hello\n",
    "    World\n",
    "    Multiple\n",
    "    Lines\n",
    "\"\"\")"
   ]
  },
  {
   "cell_type": "code",
   "execution_count": 23,
   "metadata": {},
   "outputs": [
    {
     "name": "stdout",
     "output_type": "stream",
     "text": [
      "e\n",
      "Hello\n",
      "Hello\n",
      "lo, world!\n"
     ]
    }
   ],
   "source": [
    "#6. \n",
    "print('Hello, world!'[1]) # -> Index 1\n",
    "print('Hello, world!'[0:5]) # -> From index 0 to 5 exclusive\n",
    "print('Hello, world!'[:5]) # -> from index 0 to 5 exclusive\n",
    "print('Hello, world!'[3:]) # -> from index 3 to the end"
   ]
  },
  {
   "cell_type": "code",
   "execution_count": 29,
   "metadata": {},
   "outputs": [
    {
     "name": "stdout",
     "output_type": "stream",
     "text": [
      "HELLO\n",
      "True\n",
      "hello\n"
     ]
    }
   ],
   "source": [
    "#7.\n",
    "text = 'Hello'\n",
    "print(text.upper()) # -> Converts the string into upper case\n",
    "print(text.upper().isupper()) # -> returns True if the string is in upper case\n",
    "print(text.upper().lower()) # -> returns the stirng in it's lower case format"
   ]
  },
  {
   "cell_type": "code",
   "execution_count": 35,
   "metadata": {},
   "outputs": [
    {
     "name": "stdout",
     "output_type": "stream",
     "text": [
      "['Remember,', 'remember,', 'the', 'fifth', 'of', 'July.']\n",
      "['Remember', ' remember', ' the fifth of July.']\n",
      "['There', 'can', 'only', 'one']\n"
     ]
    },
    {
     "data": {
      "text/plain": [
       "'There-can-only-one'"
      ]
     },
     "execution_count": 35,
     "metadata": {},
     "output_type": "execute_result"
    }
   ],
   "source": [
    "#8.\n",
    "text1 = 'Remember, remember, the fifth of July.'\n",
    "res = text1.split() # -> .split(arg) method splits the text into array based on arg. By default it is space\n",
    "print(res)\n",
    "res2 = text1.split(',')\n",
    "print(res2)\n",
    "\n",
    "text3 = 'There can only one'\n",
    "arr = text3.split()\n",
    "print(arr)\n",
    "'-'.join(arr) # -> join() method join the elements of the array into a string\n"
   ]
  },
  {
   "cell_type": "code",
   "execution_count": 58,
   "metadata": {},
   "outputs": [
    {
     "name": "stdout",
     "output_type": "stream",
     "text": [
      "                      center                      \n",
      "                                            center\n",
      "center                                            \n"
     ]
    }
   ],
   "source": [
    "#9. \n",
    "text4 = 'center'\n",
    "print(text4.center(50)) # -> Center a string\n",
    "print(text4.rjust(50)) # -> Right justify a string\n",
    "print(text4.ljust(50)) # -> Left justify a string\n"
   ]
  },
  {
   "cell_type": "code",
   "execution_count": 42,
   "metadata": {},
   "outputs": [
    {
     "name": "stdout",
     "output_type": "stream",
     "text": [
      "       We can remove spaces by using a strip method              \n"
     ]
    },
    {
     "data": {
      "text/plain": [
       "'We can remove spaces by using a strip method'"
      ]
     },
     "execution_count": 42,
     "metadata": {},
     "output_type": "execute_result"
    }
   ],
   "source": [
    "#10. Ways to remove space from start and end\n",
    "text5 = '       We can remove spaces by using a strip method              '\n",
    "print(text5)\n",
    "text4.strip()"
   ]
  }
 ],
 "metadata": {
  "kernelspec": {
   "display_name": "Python 3.9.7 ('base')",
   "language": "python",
   "name": "python3"
  },
  "language_info": {
   "codemirror_mode": {
    "name": "ipython",
    "version": 3
   },
   "file_extension": ".py",
   "mimetype": "text/x-python",
   "name": "python",
   "nbconvert_exporter": "python",
   "pygments_lexer": "ipython3",
   "version": "3.9.7"
  },
  "orig_nbformat": 4,
  "vscode": {
   "interpreter": {
    "hash": "a2a44d6bf7725472b302fb43220884295e1f7de98ffd4624c738d18ae0190b1a"
   }
  }
 },
 "nbformat": 4,
 "nbformat_minor": 2
}
