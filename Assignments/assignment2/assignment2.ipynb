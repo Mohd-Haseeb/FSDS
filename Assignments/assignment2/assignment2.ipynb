{
 "cells": [
  {
   "cell_type": "markdown",
   "metadata": {},
   "source": [
    "1.What are the two values of the Boolean data type? How do you write them?\n",
    "\n",
    "\n",
    "2. What are the three different types of Boolean operators?\n",
    "\n",
    "\n",
    "3. Make a list of each Boolean operator&#39;s truth tables (i.e. every possible combination of Boolean\n",
    "values for the operator and what it evaluate ).\n",
    "\n",
    "\n",
    "4. What are the values of the following expressions?\n",
    "(5 &gt; 4) and (3 == 5)\n",
    "not (5 &gt; 4)\n",
    "(5 &gt; 4) or (3 == 5)\n",
    "not ((5 &gt; 4) or (3 == 5))\n",
    "(True and True) and (True == False)\n",
    "(not False) or (not True)\n",
    "\n",
    "\n",
    "5. What are the six comparison operators?\n",
    "\n",
    "\n",
    "6. How do you tell the difference between the equal to and assignment operators?Describe a\n",
    "condition and when you would use one.\n",
    "\n",
    "\n",
    "7. Identify the three blocks in this code:\n",
    "spam = 0\n",
    "if spam == 10:\n",
    "print(&#39;eggs&#39;)\n",
    "if spam &gt; 5:\n",
    "print(&#39;bacon&#39;)\n",
    "else:\n",
    "print(&#39;ham&#39;)\n",
    "print(&#39;spam&#39;)\n",
    "print(&#39;spam&#39;)\n",
    "\n",
    "\n",
    "8. Write code that prints Hello if 1 is stored in spam, prints Howdy if 2 is stored in spam, and prints\n",
    "Greetings! if anything else is stored in spam.\n",
    "\n",
    "\n",
    "9.If your programme is stuck in an endless loop, what keys you’ll press?\n",
    "\n",
    "\n",
    "10. How can you tell the difference between break and continue?\n",
    "\n",
    "11. In a for loop, what is the difference between range(10), range(0, 10), and range(0, 10, 1)?\n",
    "\n",
    "12. Write a short program that prints the numbers 1 to 10 using a for loop. Then write an equivalent\n",
    "program that prints the numbers 1 to 10 using a while loop.\n",
    "\n",
    "13. If you had a function named bacon() inside a module named spam, how would you call it after\n",
    "importing spam?"
   ]
  },
  {
   "cell_type": "markdown",
   "metadata": {},
   "source": []
  },
  {
   "cell_type": "code",
   "execution_count": 1,
   "metadata": {},
   "outputs": [],
   "source": [
    "# 1.What are the two values of the Boolean data type? How do you write them?\n",
    "\n",
    " # -> The two values of a boolean are true and false. In python we write them as 'True' and 'False'"
   ]
  },
  {
   "cell_type": "code",
   "execution_count": 10,
   "metadata": {},
   "outputs": [
    {
     "name": "stdout",
     "output_type": "stream",
     "text": [
      "False\n",
      "True\n",
      "True\n"
     ]
    }
   ],
   "source": [
    "# 2. Three different types of boolean operators are greater than, less than and equal to\n",
    "\n",
    "print((2>5) and (5>2))\n",
    "print((2>5) or (5>2))\n",
    "\n",
    "print(not False )\n",
    "\n"
   ]
  },
  {
   "cell_type": "code",
   "execution_count": 11,
   "metadata": {},
   "outputs": [],
   "source": [
    "# 3. Boolean values table\n",
    "\n",
    "\n",
    "#         A     B         A and B       A or B    not A    not B  \n",
    "#    -> True  False         False         True     False    True\n",
    "#    -> False  True         False         True     True     False\n",
    "#    -> False  False        False         False     True    True\n",
    "#    -> True  True          True          True      False   False\n",
    "\n"
   ]
  },
  {
   "cell_type": "code",
   "execution_count": 20,
   "metadata": {},
   "outputs": [
    {
     "name": "stdout",
     "output_type": "stream",
     "text": [
      "False\n",
      "False\n",
      "True\n",
      "False\n",
      "False\n",
      "True\n"
     ]
    }
   ],
   "source": [
    "#  4.\n",
    "# (5 > 4) and (3 == 5) -> (True) and (False) -> False\n",
    "print( (5>4) and (3==5) )\n",
    "\n",
    "# not (5 > 4) -> not (True) -> False\n",
    "print( not (5>4) )\n",
    "\n",
    "# (5 > 4) or (3 == 5) -> (True) or (False) -> True\n",
    "print( (5>4) or (3==5) )\n",
    "\n",
    "\n",
    "# not ((5 > 4) or (3 == 5)) -> not ( (True) or ( False ) ) -> not ( True ) -> False\n",
    "print( not ( (5>4) or (3==5) ) )\n",
    "\n",
    "# (True and True) and (True == False) -> (True) and (False) -> False\n",
    "print( (True and True) and (True == False) )\n",
    "\n",
    "# (not False) or (not True) -> (True) or (False) -> True\n",
    "print( (not False) or (not True) )"
   ]
  },
  {
   "cell_type": "markdown",
   "metadata": {},
   "source": []
  },
  {
   "cell_type": "code",
   "execution_count": 30,
   "metadata": {},
   "outputs": [
    {
     "name": "stdout",
     "output_type": "stream",
     "text": [
      "True\n",
      "False\n",
      "True\n",
      "False\n",
      "False\n",
      "True\n"
     ]
    }
   ],
   "source": [
    "# 5. The six comparision operators are :  >(greater than)  , < (less than) , >= (greater than or equal to) , <= (less than or equal to), == (equals to) and != (not equals to)\n",
    "\n",
    "print( 5 > 2)\n",
    "print( 5 < 2)\n",
    "print( 5 >= 5 )\n",
    "print( 6 <= 2 )\n",
    "print( 6 == 3)\n",
    "print( 6 != 3)\n",
    "\n",
    "\n"
   ]
  },
  {
   "cell_type": "code",
   "execution_count": 25,
   "metadata": {},
   "outputs": [
    {
     "name": "stdout",
     "output_type": "stream",
     "text": [
      "100 100\n",
      "True\n"
     ]
    }
   ],
   "source": [
    "# 6 . Equals to (==) operator has two equal signs where as assignment(=) operator has only one. \n",
    "# == operator compares two variables and returns True if they are equal, else False\n",
    "# = operator assigns value to the variable\n",
    "\n",
    "# Example, if I want check if a and b are equal, we use == and suppose If I want to assign value of b into a, we use =.\n",
    "\n",
    "b = 100\n",
    "a = b\n",
    "print(a,b)\n",
    "print( a == b )\n"
   ]
  },
  {
   "cell_type": "code",
   "execution_count": 27,
   "metadata": {},
   "outputs": [
    {
     "name": "stdout",
     "output_type": "stream",
     "text": [
      "ham\n",
      "spam\n",
      "spam\n"
     ]
    }
   ],
   "source": [
    "# 7 Three scopes are present in the following code.\n",
    "#   -> Scope 1 : print('eggs')\n",
    "#   -> Scope 2 : print('bacon')\n",
    "#   -> Scope 3 : print('ham')\n",
    "#   -> Scope 3 : print('spam')\n",
    "#   -> Scope 3 : print('spam')\n",
    "spam = 0\n",
    "if spam == 10:\n",
    "    print('eggs')\n",
    "if spam > 5:\n",
    "    print('bacon')\n",
    "else:\n",
    "    print('ham')\n",
    "    print('spam')\n",
    "    print('spam')"
   ]
  },
  {
   "cell_type": "code",
   "execution_count": 29,
   "metadata": {},
   "outputs": [
    {
     "name": "stdout",
     "output_type": "stream",
     "text": [
      "Hello\n"
     ]
    }
   ],
   "source": [
    "# 8\n",
    "spam = 1\n",
    "if spam == 1:\n",
    "    print('Hello')\n",
    "elif spam == 2:\n",
    "    print('Howdy')\n",
    "else:\n",
    "    print('Greetings!')"
   ]
  },
  {
   "cell_type": "markdown",
   "metadata": {},
   "source": [
    "9. If a program is stuck in an infinite loop, we can interrupt the termial "
   ]
  },
  {
   "cell_type": "markdown",
   "metadata": {},
   "source": []
  },
  {
   "cell_type": "code",
   "execution_count": 40,
   "metadata": {},
   "outputs": [
    {
     "name": "stdout",
     "output_type": "stream",
     "text": [
      "9\n",
      "8\n",
      "7\n",
      "6\n",
      "9\n",
      "8\n",
      "7\n",
      "6\n",
      "4\n",
      "3\n",
      "2\n",
      "1\n"
     ]
    }
   ],
   "source": [
    "# 10. If we use break , then the control will terminate the closent loop immediately.\n",
    "#   -> If we use continue, then the control will skip that particular loop and continue from next iteration\n",
    "# Exmaple :\n",
    "jump = 9\n",
    "skip = 9\n",
    "\n",
    "while(jump != 0):\n",
    "    if jump==5:\n",
    "        break\n",
    "    print(jump)\n",
    "    jump -= 1\n",
    "for i in range(skip,0,-1):\n",
    "    if i == 5:\n",
    "        continue\n",
    "    print(i)"
   ]
  },
  {
   "cell_type": "code",
   "execution_count": 43,
   "metadata": {},
   "outputs": [
    {
     "name": "stdout",
     "output_type": "stream",
     "text": [
      "0 1 2 3 4 5 6 7 8 9 -------------------\n",
      "0 1 2 3 4 5 6 7 8 9 -------------------\n",
      "0 1 2 3 4 5 6 7 8 9 "
     ]
    }
   ],
   "source": [
    "# 11. for loop for range(10), range(0,10) and range(0,10,1) returns same values\n",
    "for i in range(10):\n",
    "    print(i, end=' ')\n",
    "print('-------------------')\n",
    "for i in range(0,10):\n",
    "    print(i, end=' ')\n",
    "print('-------------------')\n",
    "for i in range(0,10,1):\n",
    "    print(i, end=' ')\n"
   ]
  },
  {
   "cell_type": "code",
   "execution_count": 48,
   "metadata": {},
   "outputs": [
    {
     "name": "stdout",
     "output_type": "stream",
     "text": [
      "1 2 3 4 5 6 7 8 9 10 \n",
      "1 2 3 4 5 6 7 8 9 10 "
     ]
    }
   ],
   "source": [
    "# 12\n",
    "for i in range(1,11):\n",
    "    print(i, end=' ')\n",
    "print()\n",
    "start = 1\n",
    "while start<=10:\n",
    "    print(start, end=' ')\n",
    "    start += 1\n"
   ]
  },
  {
   "cell_type": "code",
   "execution_count": 3,
   "metadata": {},
   "outputs": [],
   "source": [
    "# 13\n",
    "import spam as spam"
   ]
  },
  {
   "cell_type": "code",
   "execution_count": 4,
   "metadata": {},
   "outputs": [
    {
     "name": "stdout",
     "output_type": "stream",
     "text": [
      "Bacon\n"
     ]
    }
   ],
   "source": [
    "spam.bacon()"
   ]
  },
  {
   "cell_type": "code",
   "execution_count": null,
   "metadata": {},
   "outputs": [],
   "source": []
  }
 ],
 "metadata": {
  "kernelspec": {
   "display_name": "Python 3.10.4 64-bit",
   "language": "python",
   "name": "python3"
  },
  "language_info": {
   "codemirror_mode": {
    "name": "ipython",
    "version": 3
   },
   "file_extension": ".py",
   "mimetype": "text/x-python",
   "name": "python",
   "nbconvert_exporter": "python",
   "pygments_lexer": "ipython3",
   "version": "3.10.4"
  },
  "orig_nbformat": 4,
  "vscode": {
   "interpreter": {
    "hash": "aee8b7b246df8f9039afb4144a1f6fd8d2ca17a180786b69acc140d282b71a49"
   }
  }
 },
 "nbformat": 4,
 "nbformat_minor": 2
}
