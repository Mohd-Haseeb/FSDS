{
 "cells": [
  {
   "cell_type": "code",
   "execution_count": 3,
   "metadata": {},
   "outputs": [],
   "source": [
    "#1 . Why are functions advantageous to have in your programs?\n",
    "\n",
    "# -> Functions reduce the redundancy of a code. Instead of writing a code multiple time we can just write a function and call it \n",
    "#       whenever required. We do not have to repeat the code again and again."
   ]
  },
  {
   "cell_type": "code",
   "execution_count": 5,
   "metadata": {},
   "outputs": [
    {
     "name": "stdout",
     "output_type": "stream",
     "text": [
      "Hello\n",
      "Hello\n"
     ]
    }
   ],
   "source": [
    "#2. When does the code in a function run: when it is specified or when it is called?\n",
    "    # -> function is executed/run when it is called\n",
    "\n",
    "def func(): # -> Function declaration\n",
    "    print(\"Hello\")\n",
    "\n",
    "func() # -> function call\n",
    "func()\n"
   ]
  },
  {
   "cell_type": "code",
   "execution_count": 7,
   "metadata": {},
   "outputs": [],
   "source": [
    "#3. What statement creates a function?\n",
    "#   -> \"def\" keyword is used to declare a function\n",
    "\n",
    "def add(a,b):\n",
    "    print(a+b)"
   ]
  },
  {
   "cell_type": "code",
   "execution_count": 9,
   "metadata": {},
   "outputs": [],
   "source": [
    "#4. What is the difference between a function and a function call?\n",
    "#   -> defining a function means function declaration. Here, function isn't executed, rather stored in a memory\n",
    "#   -> Function call is where we actually execute a function"
   ]
  },
  {
   "cell_type": "code",
   "execution_count": 13,
   "metadata": {},
   "outputs": [
    {
     "name": "stdout",
     "output_type": "stream",
     "text": [
      "ineuron\n",
      "Krish Naik Sudhanshu Kumar\n"
     ]
    }
   ],
   "source": [
    "# 5 How many global scopes are there in a Python program? How many local scopes?\n",
    "#   -> There is only one global scope in a python program, the remains until the program is executed\n",
    "#   -> If a variable is created inside a function, then it is local scoped. So, local scopes in a python program are equal to\n",
    "#       number of functions we have. Each function has it's own local scope\n",
    "\n",
    "channel = 'ineuron intelligence' # -> Global Scope\n",
    "def company():  # -> Local Scope 1\n",
    "    name = 'ineuron'\n",
    "    print(name)\n",
    "def founders(): # -> Local Scope 2\n",
    "    name1 = 'Krish Naik'\n",
    "    name2 = 'Sudhanshu Kumar'\n",
    "    print(name1,name2)\n",
    "\n",
    "company()\n",
    "founders()\n",
    "\n",
    "\n"
   ]
  },
  {
   "cell_type": "code",
   "execution_count": 14,
   "metadata": {},
   "outputs": [],
   "source": [
    "#6 What happens to variables in a local scope when the function call returns? \n",
    "#   -> When the execution of the function terminates (returns), the local variables are destroyed"
   ]
  },
  {
   "cell_type": "code",
   "execution_count": 15,
   "metadata": {},
   "outputs": [],
   "source": [
    "#7 What is the concept of a return value? Is it possible to have a return value in an expression?\n",
    "#   -> return keyword is used inside a function to return something. And it is the last line to be executed inside the function.\n",
    "#       After return, control comes out of the function and returns where the function was called along with the returned value.\n",
    "#       "
   ]
  },
  {
   "cell_type": "code",
   "execution_count": 19,
   "metadata": {},
   "outputs": [
    {
     "name": "stdout",
     "output_type": "stream",
     "text": [
      "Something\n",
      "<class 'NoneType'>\n"
     ]
    }
   ],
   "source": [
    "#8. If a function does not have a return statement, what is the return value of a call to that function?\n",
    "#       -> If a function doesn't have a return statement, it returns None.\n",
    "\n",
    "def func():\n",
    "    print(\"Something\")\n",
    "\n",
    "var = func()\n",
    "print(type(var))"
   ]
  },
  {
   "cell_type": "code",
   "execution_count": 25,
   "metadata": {},
   "outputs": [
    {
     "name": "stdout",
     "output_type": "stream",
     "text": [
      "edtech\n",
      "edtech\n"
     ]
    }
   ],
   "source": [
    "#9. How do you make a function variable refer to the global variable?\n",
    "#   -> If we want to refer a global variable inside a function, we can use global keyword.\n",
    "name = 'ineuron'\n",
    "def func():\n",
    "    global name\n",
    "    name = 'edtech'\n",
    "    print(name)\n",
    "func()\n",
    "print(name)"
   ]
  },
  {
   "cell_type": "code",
   "execution_count": 26,
   "metadata": {},
   "outputs": [
    {
     "name": "stdout",
     "output_type": "stream",
     "text": [
      "<class 'NoneType'>\n"
     ]
    }
   ],
   "source": [
    "#10. What is the data type of None?\n",
    "#   -> Data type of None is \"NoneType\"\n",
    "\n",
    "print(type(None))"
   ]
  },
  {
   "cell_type": "code",
   "execution_count": 27,
   "metadata": {},
   "outputs": [],
   "source": [
    "#11. What does the sentence import areallyourpetsnamederic do?"
   ]
  },
  {
   "cell_type": "code",
   "execution_count": 29,
   "metadata": {},
   "outputs": [
    {
     "name": "stdout",
     "output_type": "stream",
     "text": [
      "Assignment 3 under work!\n"
     ]
    }
   ],
   "source": [
    "#12. If you had a bacon() feature in a spam module, what would you call it after importing spam?\n",
    "import span as s\n",
    "s.bacon()"
   ]
  },
  {
   "cell_type": "code",
   "execution_count": 33,
   "metadata": {},
   "outputs": [
    {
     "name": "stdout",
     "output_type": "stream",
     "text": [
      "something wrong\n",
      "name 'nam' is not defined\n"
     ]
    }
   ],
   "source": [
    "#13. What can you do to save a programme from crashing if it encounters an error?\n",
    "#   -> We can use try catch blocks to handle the errors with crashing the program\n",
    "name = 'ineuron'\n",
    "try:\n",
    "    print(nam)\n",
    "except Exception as e :\n",
    "    print(\"something wrong\")\n",
    "    print(e)"
   ]
  },
  {
   "cell_type": "code",
   "execution_count": 34,
   "metadata": {},
   "outputs": [],
   "source": [
    "#14. What is the purpose of the try clause? What is the purpose of the except clause?\n",
    "#   -> Try clause is the block of statements where we write the code and expect some error may occur in these lines of code.\n",
    "#   -> To handle these errors, in case if an error occurs in try block, instead of crashing the program control is sent to except clause\n",
    "#       where we handle the error"
   ]
  },
  {
   "cell_type": "code",
   "execution_count": null,
   "metadata": {},
   "outputs": [],
   "source": []
  }
 ],
 "metadata": {
  "kernelspec": {
   "display_name": "Python 3.10.4 64-bit",
   "language": "python",
   "name": "python3"
  },
  "language_info": {
   "codemirror_mode": {
    "name": "ipython",
    "version": 3
   },
   "file_extension": ".py",
   "mimetype": "text/x-python",
   "name": "python",
   "nbconvert_exporter": "python",
   "pygments_lexer": "ipython3",
   "version": "3.10.4"
  },
  "orig_nbformat": 4,
  "vscode": {
   "interpreter": {
    "hash": "aee8b7b246df8f9039afb4144a1f6fd8d2ca17a180786b69acc140d282b71a49"
   }
  }
 },
 "nbformat": 4,
 "nbformat_minor": 2
}
