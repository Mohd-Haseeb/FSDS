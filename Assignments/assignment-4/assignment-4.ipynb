{
 "cells": [
  {
   "cell_type": "code",
   "execution_count": 2,
   "metadata": {},
   "outputs": [],
   "source": [
    "def fib(n):\n",
    "    a = 1\n",
    "    b=1\n",
    "    ans = []\n",
    "    for i in range(n):\n",
    "        yield a\n",
    "        a,b = b, a+b\n"
   ]
  },
  {
   "cell_type": "code",
   "execution_count": 3,
   "metadata": {},
   "outputs": [
    {
     "data": {
      "text/plain": [
       "<generator object fib at 0x106490a50>"
      ]
     },
     "execution_count": 3,
     "metadata": {},
     "output_type": "execute_result"
    }
   ],
   "source": [
    "fib(10)"
   ]
  },
  {
   "cell_type": "code",
   "execution_count": 4,
   "metadata": {},
   "outputs": [
    {
     "data": {
      "text/plain": [
       "[1, 1, 2, 3, 5, 8, 13, 21, 34, 55]"
      ]
     },
     "execution_count": 4,
     "metadata": {},
     "output_type": "execute_result"
    }
   ],
   "source": [
    "list(fib(10))"
   ]
  },
  {
   "cell_type": "code",
   "execution_count": 7,
   "metadata": {},
   "outputs": [],
   "source": [
    "# seek\n",
    "# tell\n",
    "# read\n",
    "# seek\n",
    "# readline\n",
    "# readlines\n",
    "# open\n",
    "# close"
   ]
  },
  {
   "cell_type": "markdown",
   "metadata": {},
   "source": [
    "1. What exactly is []?\n",
    "\n",
    "2. In a list of values stored in a variable called spam, how would you assign the value &#39;hello&#39; as the\n",
    "third value? (Assume [2, 4, 6, 8, 10] are in spam.)\n",
    "Let&#39;s pretend the spam includes the list [&#39;a&#39;, &#39;b&#39;, &#39;c&#39;, &#39;d&#39;] for the next three queries.\n",
    "\n",
    "3. What is the value of spam[int(int(&#39;3&#39; * 2) / 11)]?\n",
    "\n",
    "4. What is the value of spam[-1]?\n",
    "\n",
    "5. What is the value of spam[:2]?\n",
    "Let&#39;s pretend bacon has the list [3.14, &#39;cat,&#39; 11, &#39;cat,&#39; True] for the next three questions.\n",
    "\n",
    "6. What is the value of bacon.index(&#39;cat&#39;)?\n",
    "\n",
    "7. How does bacon.append(99) change the look of the list value in bacon?\n",
    "\n",
    "8. How does bacon.remove(&#39;cat&#39;) change the look of the list in bacon?\n",
    "\n",
    "9. What are the list concatenation and list replication operators?\n",
    "\n",
    "10. What is difference between the list methods append() and insert()?\n",
    "\n",
    "11. What are the two methods for removing items from a list?\n",
    "\n",
    "12. Describe how list values and string values are identical.\n",
    "\n",
    "13. What&#39;s the difference between tuples and lists?\n",
    "\n",
    "14. How do you type a tuple value that only contains the integer 42?\n",
    "\n",
    "15. How do you get a list value&#39;s tuple form? How do you get a tuple value&#39;s list form?\n",
    "\n",
    "16. Variables that &quot;contain&quot; list values are not necessarily lists themselves. Instead, what do they\n",
    "contain?\n",
    "\n",
    "17. How do you distinguish between copy.copy() and copy.deepcopy()?"
   ]
  },
  {
   "cell_type": "code",
   "execution_count": 1,
   "metadata": {},
   "outputs": [],
   "source": [
    "#1. What is []?\n",
    "#   -> [] is used to define an List which is empty initially\n",
    "var = []"
   ]
  },
  {
   "cell_type": "code",
   "execution_count": 3,
   "metadata": {},
   "outputs": [
    {
     "name": "stdout",
     "output_type": "stream",
     "text": [
      "[2, 4, 'hello', 8, 10]\n"
     ]
    }
   ],
   "source": [
    "#2. \n",
    "spam = [2,4,6,8,10]\n",
    "spam[2] = 'hello' # Indexing starts from 0\n",
    "print(spam)"
   ]
  },
  {
   "cell_type": "code",
   "execution_count": 5,
   "metadata": {},
   "outputs": [
    {
     "name": "stdout",
     "output_type": "stream",
     "text": [
      "d\n"
     ]
    }
   ],
   "source": [
    "#3. value of spam[int(int('3'*2)/11)]? where spam = [a,b,c,d]\n",
    "#   -> int(int('3'*2)/11) => int(int(33)/11) => int(33/11) => int(3) => 3 , so spam[3] = d\n",
    "spam = ['a','b','c','d']\n",
    "ans = spam[int(int('3'*2)/11)]\n",
    "print(ans)"
   ]
  },
  {
   "cell_type": "code",
   "execution_count": 7,
   "metadata": {},
   "outputs": [
    {
     "name": "stdout",
     "output_type": "stream",
     "text": [
      "d\n"
     ]
    }
   ],
   "source": [
    "#4. value of spam[-1]\n",
    "#   -> -1 indicates last index of the iterable, so 'd'\n",
    "last = spam[-1]\n",
    "print(last)"
   ]
  },
  {
   "cell_type": "code",
   "execution_count": 8,
   "metadata": {},
   "outputs": [
    {
     "name": "stdout",
     "output_type": "stream",
     "text": [
      "['a', 'b']\n"
     ]
    }
   ],
   "source": [
    "#5. value of spam[:2]\n",
    "#   -> spam[:2] indicates all values of spam starting from index 0 till index 2, but not including. So, [a,b]\n",
    "indexing = spam[:2]\n",
    "print(indexing)"
   ]
  },
  {
   "cell_type": "code",
   "execution_count": 9,
   "metadata": {},
   "outputs": [
    {
     "name": "stdout",
     "output_type": "stream",
     "text": [
      "1\n"
     ]
    }
   ],
   "source": [
    "#6. What is value of bacon.index('cat)\n",
    "#   -> .index(value) returns index position of value(first encounter) from the list, so bacon.index('cat') = 1\n",
    "bacon = [3.14, 'cat',11,'cat',True]\n",
    "print(bacon.index('cat'))\n"
   ]
  },
  {
   "cell_type": "code",
   "execution_count": 10,
   "metadata": {},
   "outputs": [
    {
     "data": {
      "text/plain": [
       "[3.14, 'cat', 11, 'cat', True, 99]"
      ]
     },
     "execution_count": 10,
     "metadata": {},
     "output_type": "execute_result"
    }
   ],
   "source": [
    "#7. bacon.append(99)?\n",
    "#   -> .append(val) methods add val at the end of the list\n",
    "bacon.append(99)\n",
    "bacon"
   ]
  },
  {
   "cell_type": "code",
   "execution_count": 11,
   "metadata": {},
   "outputs": [
    {
     "data": {
      "text/plain": [
       "[3.14, 11, 'cat', True, 99]"
      ]
     },
     "execution_count": 11,
     "metadata": {},
     "output_type": "execute_result"
    }
   ],
   "source": [
    "#8. bacon.remove('cat')\n",
    "#   -> .remove(val) removes the val(first encountered) from the list \n",
    "bacon.remove('cat')\n",
    "bacon"
   ]
  },
  {
   "cell_type": "code",
   "execution_count": 18,
   "metadata": {},
   "outputs": [
    {
     "name": "stdout",
     "output_type": "stream",
     "text": [
      "[1, 2, 3, 4, 'a', 'b', 'c']\n",
      "[1, 2, 3, 4, 'a', 'b', 'c']\n",
      "[1, 2, 3, 4, 'a', 'b', 'c']\n"
     ]
    },
    {
     "data": {
      "text/plain": [
       "[1, 2, 3, 4, 1, 2, 3, 4, 1, 2, 3, 4]"
      ]
     },
     "execution_count": 18,
     "metadata": {},
     "output_type": "execute_result"
    }
   ],
   "source": [
    "#9. List concatenation and list replication operators?\n",
    "\n",
    "# List concatenation\n",
    "l1 = [1,2,3,4]\n",
    "l2 = ['a','b','c']\n",
    "list_concat = l1+l2\n",
    "print(list_concat)\n",
    "list_concat2 = [*l1,*l2]\n",
    "print(list_concat2)\n",
    "\n",
    "list_concat3 = [y for x in [l1,l2] for y in x]\n",
    "print(list_concat3)\n",
    "\n",
    "# List Replication\n",
    "l1_replicate = l1 * 3\n",
    "l1_replicate"
   ]
  },
  {
   "cell_type": "code",
   "execution_count": 25,
   "metadata": {},
   "outputs": [
    {
     "name": "stdout",
     "output_type": "stream",
     "text": [
      "[1, 2, 'car', 'dog', 8, '763']\n",
      "[1, 2, 'inserted value', 'car', 'dog', 8, '763']\n"
     ]
    }
   ],
   "source": [
    "#10. Differenct between append and insert methods?\n",
    "#   -> append() adds a value at the end of the list, whereas insert() inserts a value in a list at the specified index\n",
    "l3 = [1,2,'car','dog',8]\n",
    "l3.append('763')\n",
    "print(l3)\n",
    "l3.insert(2,'inserted value')\n",
    "print(l3)"
   ]
  },
  {
   "cell_type": "code",
   "execution_count": 26,
   "metadata": {},
   "outputs": [
    {
     "data": {
      "text/plain": [
       "[1, 2, 'car', 'dog', 8]"
      ]
     },
     "execution_count": 26,
     "metadata": {},
     "output_type": "execute_result"
    }
   ],
   "source": [
    "#11. Methods to remove items from a list\n",
    "#   -> .pop() and .remove() are the two methods to remove elements from a list\n",
    "#       -> .pop() removes last element of the list\n",
    "#       -> .remove() removes the specified value from the list\n",
    "l3.pop()\n",
    "l3.remove('inserted value')\n",
    "\n",
    "l3"
   ]
  },
  {
   "cell_type": "code",
   "execution_count": 27,
   "metadata": {},
   "outputs": [],
   "source": [
    "#12. How list values and string values are identical?\n",
    "#   -> They are both iterable\n",
    "#   -> Indexing and slicing can be performed on both.\n",
    "#   -> Elements can be accessed using their index values"
   ]
  },
  {
   "cell_type": "code",
   "execution_count": 29,
   "metadata": {},
   "outputs": [],
   "source": [
    "#13. Difference between tuples and list?\n",
    "#   -> Lists are mutable , but tuples are immutable\n",
    "#   -> [] is used to declare a list and () is for tuple declaration\n"
   ]
  },
  {
   "cell_type": "code",
   "execution_count": 44,
   "metadata": {},
   "outputs": [
    {
     "data": {
      "text/plain": [
       "42"
      ]
     },
     "execution_count": 44,
     "metadata": {},
     "output_type": "execute_result"
    }
   ],
   "source": [
    "#14.\n",
    "tup = ()\n",
    "my_tuple = (42)\n",
    "# print(my_tuple[-1])\n",
    "val = my_tuple\n",
    "val"
   ]
  },
  {
   "cell_type": "code",
   "execution_count": 48,
   "metadata": {},
   "outputs": [
    {
     "name": "stdout",
     "output_type": "stream",
     "text": [
      "<class 'list'>\n",
      "<class 'tuple'>\n",
      "<class 'list'>\n"
     ]
    }
   ],
   "source": [
    "#15. \n",
    "\n",
    "my_list = [1,2,'hello']\n",
    "print(type(my_list))\n",
    "\n",
    "my_list = tuple(my_list)\n",
    "print(type(my_list))\n",
    "\n",
    "my_tuple = (1,2,'hello')\n",
    "my_tuple = list(my_tuple)\n",
    "print(type(my_tuple))"
   ]
  },
  {
   "cell_type": "code",
   "execution_count": 49,
   "metadata": {},
   "outputs": [],
   "source": [
    "#16. "
   ]
  },
  {
   "cell_type": "code",
   "execution_count": 75,
   "metadata": {},
   "outputs": [
    {
     "name": "stdout",
     "output_type": "stream",
     "text": [
      "--Shallow Copy--\n",
      "Original =>  [[1, 2, 3], ['hello']]\n",
      "Shallow copy of l1 =>  [[1, 2, 3], ['hello']]\n",
      "After changes made to copied list =>  [[1, 2, 3], ['hello', 'added'], 'No effect']\n",
      "Effect on original list => [[1, 2, 3], ['hello', 'added']]\n",
      "--Deep Copy--\n",
      "Original =>  [[4, 5, 6], ['world']]\n",
      "Deep copy of l3 =>  [[4, 5, 6], ['world']]\n",
      "After changes made to copied list =>  [[4, 5, 6], ['world', ' to deepcopy']]\n",
      "Effect on original list => [[4, 5, 6], ['world']]\n"
     ]
    }
   ],
   "source": [
    "#17. copy() vs deepcopy()\n",
    "#   ->  copy returns shallow copy , doesn't create copy of nested objects. Hence any changes to the nested objects, will have effect on original list\n",
    "\n",
    "import copy\n",
    "\n",
    "print(\"--Shallow Copy--\")\n",
    "list1 = [[1,2,3],['hello']]\n",
    "print(\"Original => \",list1)\n",
    "list2 = copy.copy(list1)\n",
    "print('Shallow copy of l1 => ',list2)\n",
    "list2[1].append('added')\n",
    "list2.append(\"No effect\")\n",
    "print(\"After changes made to copied list => \",list2)\n",
    "print(\"Effect on original list =>\",list1)\n",
    "\n",
    "print(\"--Deep Copy--\")\n",
    "\n",
    "list3 =  [[4,5,6],['world']]\n",
    "print(\"Original => \",list3)\n",
    "list4 = copy.deepcopy(list3)\n",
    "print('Deep copy of l3 => ',list4)\n",
    "list4[1].append(' to deepcopy')\n",
    "list2.append(\"No effect\")\n",
    "print(\"After changes made to copied list => \",list4)\n",
    "print(\"Effect on original list =>\",list3)\n",
    "\n"
   ]
  },
  {
   "cell_type": "code",
   "execution_count": null,
   "metadata": {},
   "outputs": [],
   "source": []
  }
 ],
 "metadata": {
  "kernelspec": {
   "display_name": "Python 3.10.4 64-bit",
   "language": "python",
   "name": "python3"
  },
  "language_info": {
   "codemirror_mode": {
    "name": "ipython",
    "version": 3
   },
   "file_extension": ".py",
   "mimetype": "text/x-python",
   "name": "python",
   "nbconvert_exporter": "python",
   "pygments_lexer": "ipython3",
   "version": "3.10.4"
  },
  "orig_nbformat": 4,
  "vscode": {
   "interpreter": {
    "hash": "aee8b7b246df8f9039afb4144a1f6fd8d2ca17a180786b69acc140d282b71a49"
   }
  }
 },
 "nbformat": 4,
 "nbformat_minor": 2
}
